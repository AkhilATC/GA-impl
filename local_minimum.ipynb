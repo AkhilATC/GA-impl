{
 "cells": [
  {
   "cell_type": "markdown",
   "id": "6b94be53",
   "metadata": {},
   "source": [
    "# Conditions for Local Minima\n",
    "\n",
    "1. f'(x) = 0 First order necessary condition\n",
    "2. f''(x) > 0 Second order necessary condition"
   ]
  },
  {
   "cell_type": "code",
   "execution_count": 8,
   "id": "41c9df53",
   "metadata": {},
   "outputs": [],
   "source": [
    "x = [_ for _ in range(0,10)]\n",
    "x.append(2.5)"
   ]
  },
  {
   "cell_type": "code",
   "execution_count": 9,
   "id": "d3eed9ec",
   "metadata": {},
   "outputs": [],
   "source": [
    "# objective function\n",
    "def objective(e):\n",
    "    return 2*e**2-10*e"
   ]
  },
  {
   "cell_type": "code",
   "execution_count": 10,
   "id": "40057257",
   "metadata": {},
   "outputs": [],
   "source": [
    "objectives = list(map(objective,x))"
   ]
  },
  {
   "cell_type": "code",
   "execution_count": 11,
   "id": "b969990a",
   "metadata": {},
   "outputs": [
    {
     "data": {
      "text/plain": [
       "[0, -8, -12, -12, -8, 0, 12, 28, 48, 72, -12.5]"
      ]
     },
     "execution_count": 11,
     "metadata": {},
     "output_type": "execute_result"
    }
   ],
   "source": [
    "objectives"
   ]
  },
  {
   "cell_type": "code",
   "execution_count": null,
   "id": "445a48f8",
   "metadata": {},
   "outputs": [],
   "source": [
    "#Todo find first and se"
   ]
  }
 ],
 "metadata": {
  "kernelspec": {
   "display_name": "Python 3",
   "language": "python",
   "name": "python3"
  },
  "language_info": {
   "codemirror_mode": {
    "name": "ipython",
    "version": 3
   },
   "file_extension": ".py",
   "mimetype": "text/x-python",
   "name": "python",
   "nbconvert_exporter": "python",
   "pygments_lexer": "ipython3",
   "version": "3.6.9"
  }
 },
 "nbformat": 4,
 "nbformat_minor": 5
}
